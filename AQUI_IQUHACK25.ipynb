{
  "nbformat": 4,
  "nbformat_minor": 0,
  "metadata": {
    "colab": {
      "provenance": []
    },
    "kernelspec": {
      "name": "python3",
      "display_name": "Python 3"
    },
    "language_info": {
      "name": "python"
    }
  },
  "cells": [
    {
      "cell_type": "markdown",
      "source": [
        "# Factorizing Semiprimes using Shor's algorithm"
      ],
      "metadata": {
        "id": "73-XRbLW060c"
      }
    },
    {
      "cell_type": "markdown",
      "source": [
        "### **Install Quantum Rings**"
      ],
      "metadata": {
        "id": "odhlRA9Z0sm-"
      }
    },
    {
      "cell_type": "code",
      "source": [
        "!pip install QuantumRingsLib"
      ],
      "metadata": {
        "colab": {
          "base_uri": "https://localhost:8080/"
        },
        "id": "I57Kdl_ByK9j",
        "outputId": "8cadad24-9e99-42d6-8150-7a00f66f254f"
      },
      "execution_count": 1,
      "outputs": [
        {
          "output_type": "stream",
          "name": "stdout",
          "text": [
            "Collecting QuantumRingsLib\n",
            "  Downloading QuantumRingsLib-0.9.11-cp311-cp311-manylinux_2_34_x86_64.whl.metadata (21 kB)\n",
            "Downloading QuantumRingsLib-0.9.11-cp311-cp311-manylinux_2_34_x86_64.whl (1.5 MB)\n",
            "\u001b[?25l   \u001b[90m━━━━━━━━━━━━━━━━━━━━━━━━━━━━━━━━━━━━━━━━\u001b[0m \u001b[32m0.0/1.5 MB\u001b[0m \u001b[31m?\u001b[0m eta \u001b[36m-:--:--\u001b[0m\r\u001b[2K   \u001b[91m━━━━━━━━━━━━━━━━\u001b[0m\u001b[90m╺\u001b[0m\u001b[90m━━━━━━━━━━━━━━━━━━━━━━━\u001b[0m \u001b[32m0.6/1.5 MB\u001b[0m \u001b[31m18.5 MB/s\u001b[0m eta \u001b[36m0:00:01\u001b[0m\r\u001b[2K   \u001b[90m━━━━━━━━━━━━━━━━━━━━━━━━━━━━━━━━━━━━━━━━\u001b[0m \u001b[32m1.5/1.5 MB\u001b[0m \u001b[31m24.3 MB/s\u001b[0m eta \u001b[36m0:00:00\u001b[0m\n",
            "\u001b[?25hInstalling collected packages: QuantumRingsLib\n",
            "Successfully installed QuantumRingsLib-0.9.11\n"
          ]
        }
      ]
    },
    {
      "cell_type": "markdown",
      "source": [
        "## Importing Libraries and Setting Up Quantum Rings Provider\n",
        "\n",
        "This cell imports the necessary libraries for implementing Shor's algorithm using Quantum Rings. It includes:\n",
        "- **QuantumRingsLib**: A quantum computing library for working with quantum rings.\n",
        "- **Matplotlib and NumPy**: For visualization and numerical operations.\n",
        "- **Math and Random**: For mathematical operations and random number generation.\n",
        "\n",
        "The cell initializes the **QuantumRingsProvider** with authentication credentials and retrieves the backend named `\"scarlet_quantum_rings\"`. It also verifies the active account.\n",
        "\n"
      ],
      "metadata": {
        "id": "sMwUNeIKykXX"
      }
    },
    {
      "cell_type": "code",
      "source": [
        "import time\n",
        "import QuantumRingsLib\n",
        "from QuantumRingsLib import QuantumRegister, ClassicalRegister, QuantumCircuit\n",
        "from QuantumRingsLib import QuantumRingsProvider\n",
        "from QuantumRingsLib import job_monitor\n",
        "from matplotlib import pyplot as plt\n",
        "import numpy as np\n",
        "import math\n",
        "import random\n",
        "from math import gcd\n",
        "import threading\n",
        "import time, random\n",
        "\n",
        "provider = QuantumRingsProvider(\n",
        "    token='rings-200.YgwkLRmk6lGxpnBseHdbT9qm265I7L00',\n",
        "    name='aarushh007@gmail.com'\n",
        ")\n",
        "backend = provider.get_backend(\"scarlet_quantum_rings\")\n",
        "provider.active_account()"
      ],
      "metadata": {
        "colab": {
          "base_uri": "https://localhost:8080/"
        },
        "id": "Tav5PIOSyOFR",
        "outputId": "b86aee71-9bc6-418a-faf5-9425d3d67f9b"
      },
      "execution_count": 2,
      "outputs": [
        {
          "output_type": "execute_result",
          "data": {
            "text/plain": [
              "{'name': 'aarushh007@gmail.com',\n",
              " 'token': 'rings-200.YgwkLRmk6lGxpnBseHdbT9qm265I7L00',\n",
              " 'max_qubits': '200'}"
            ]
          },
          "metadata": {},
          "execution_count": 2
        }
      ]
    },
    {
      "cell_type": "markdown",
      "source": [
        "## Defining the Number of Shots\n",
        "\n",
        "This cell sets the number of shots (repetitions of the quantum circuit execution) to **2048**.  \n"
      ],
      "metadata": {
        "id": "G3kISnrMzZxU"
      }
    },
    {
      "cell_type": "code",
      "source": [
        "shots = 2048"
      ],
      "metadata": {
        "id": "JGctLeu2y3tj"
      },
      "execution_count": 3,
      "outputs": []
    },
    {
      "cell_type": "markdown",
      "source": [
        "## Modular Exponentiation Circuit (Simplified)\n",
        "\n",
        "This function **`modular_exponentiation`** implements a simplified version of modular exponentiation, which is a key step in **Shor's algorithm**.\n",
        "\n",
        "- **Arguments:**\n",
        "  - `qc`: The quantum circuit to modify.\n",
        "  - `a`: The base of the exponentiation (`a^x mod N`).\n",
        "  - `N`: The number to be factored.\n",
        "  - `source`: The qubits representing the exponent (`x`).\n",
        "  - `target`: The qubits where the modular exponentiation result is stored.\n",
        "\n",
        "- **Implementation Details:**\n",
        "  - The function currently applies only **CNOT (CX) gates** as a placeholder.\n",
        "  - In a full implementation, these would be replaced with **controlled modular multiplication** gates to compute \\( a^x \\mod N \\).\n",
        "  - A barrier is added for clarity in circuit visualization.\n",
        "\n",
        "This step is essential for encoding periodicity in the quantum state, which is later extracted using the **Quantum Fourier Transform (QFT)**.\n"
      ],
      "metadata": {
        "id": "Vgr3gv9a4AAd"
      }
    },
    {
      "cell_type": "code",
      "source": [
        "def modular_exponentiation(qc, a, N, source, target):\n",
        "    \"\"\"Simplified modular exponentiation: a^x mod N.\"\"\"\n",
        "    for i in range(len(source)):\n",
        "        qc.cx(source[i], target[i])\n",
        "    qc.barrier()"
      ],
      "metadata": {
        "id": "_1Y_8AsQ1wXV"
      },
      "execution_count": 4,
      "outputs": []
    },
    {
      "cell_type": "markdown",
      "source": [
        "## Inverse Quantum Fourier Transform (IQFT) Circuit\n",
        "\n",
        "This function **`iqft_circuit`** implements the **Inverse Quantum Fourier Transform (IQFT)** on a given quantum circuit.\n",
        "\n",
        "- **Arguments:**\n",
        "  - `qc`: The quantum circuit to modify.\n",
        "  - `qubits`: The list of qubits on which IQFT is applied.\n",
        "  - `n`: The number of qubits.\n",
        "\n",
        "- **Implementation Details:**\n",
        "  - Applies a sequence of controlled phase gates (`cu1`) with exponentially decreasing angles.\n",
        "  - Applies a Hadamard gate (`h`) on each qubit.\n",
        "  - Inserts a barrier for visualization and separation.\n",
        "\n",
        "The IQFT is crucial for extracting periodicity in Shor's algorithm, which helps in finding the factors of a given integer.\n"
      ],
      "metadata": {
        "id": "_CmciCpI0ByH"
      }
    },
    {
      "cell_type": "code",
      "source": [
        "def iqft_circuit(qc, qubits, n):\n",
        "    for i in range(n):\n",
        "        for j in range(i):\n",
        "            qc.cu1(-math.pi / (2 ** (i - j)), qubits[j], qubits[i])\n",
        "        qc.h(qubits[i])\n",
        "    qc.barrier()"
      ],
      "metadata": {
        "id": "od42vPYi1taO"
      },
      "execution_count": 5,
      "outputs": []
    },
    {
      "cell_type": "markdown",
      "source": [
        "### Shor's algorithm implementation"
      ],
      "metadata": {
        "id": "Re_vQQdC4Gj4"
      }
    },
    {
      "cell_type": "markdown",
      "source": [
        "## Shor's Algorithm for Factoring a Semiprime \\( N \\)\n",
        "\n",
        "This function **`shors_algorithm`** implements **Shor's algorithm** to factorize a given semiprime \\( N \\) using quantum computing.\n",
        "\n",
        "### **Steps:**\n",
        "1. **Choose a Random Base \\( a \\) (if not provided):**\n",
        "   - A random base \\( a \\) is selected such that \\( \\gcd(a, N) = 1 \\).\n",
        "   - If the chosen base shares a common factor with \\( N \\), it is re-selected.\n",
        "\n",
        "2. **Quantum Register Initialization:**\n",
        "   - The number of qubits is dynamically allocated based on \\( N \\).\n",
        "   - `source_qubits`: Holds the exponent (`x`).\n",
        "   - `target_qubits`: Stores the result of modular exponentiation.\n",
        "   - `classical_register`: Stores measurement results.\n",
        "\n",
        "3. **Superposition Initialization:**\n",
        "   - Hadamard gates are applied to `source_qubits` to create an equal superposition.\n",
        "   - The target register is initialized to \\(|1\\rangle\\).\n",
        "\n",
        "4. **Modular Exponentiation:**\n",
        "   - Calls `modular_exponentiation(qc, base, N, source_qubits, target_qubits)`, which encodes \\( a^x \\mod N \\) into the quantum state.\n",
        "\n",
        "5. **Apply Inverse Quantum Fourier Transform (IQFT):**\n",
        "   - Calls `iqft_circuit(qc, source_qubits, n)` to extract periodicity.\n",
        "\n",
        "6. **Measurement and Execution:**\n",
        "   - The `source_qubits` are measured into the `classical_register`.\n",
        "   - The circuit is executed on the **Quantum Rings backend** with `shots` repetitions.\n",
        "\n",
        "7. **Interpretation of Results:**\n",
        "   - Calls `interpret_quantum_counts(counts, N, base)` to extract periodicity and compute the prime factors.\n",
        "\n",
        "### **Output:**\n",
        "- The function returns the two prime factors of \\( N \\) by analyzing the measurement results.\n",
        "\n",
        "This implementation is designed for execution on a **Quantum Rings** backend and provides a structured approach to quantum factorization.\n"
      ],
      "metadata": {
        "id": "7QkEP0m18RD_"
      }
    },
    {
      "cell_type": "code",
      "source": [
        "def shors_algorithm(N, base=None):\n",
        "    \"\"\"Shor's algorithm to factorize any semiprime N.\"\"\"\n",
        "    if base is None:\n",
        "        base = random.randint(2, N - 1)  # Choose a random base a\n",
        "        print(base)\n",
        "        while gcd(base, N) != 1:  # Ensure base is coprime with N\n",
        "            base = random.randint(2, N - 1)\n",
        "\n",
        "    # Dynamic qubit allocation\n",
        "    n = math.ceil(math.log2(N))\n",
        "    num_qubits = 2 * n + 3  # Source and target registers\n",
        "    source_qubits = QuantumRegister(n, 'source')\n",
        "    target_qubits = QuantumRegister(n + 1, 'target')\n",
        "    classical_register = ClassicalRegister(num_qubits, 'c')\n",
        "    qc = QuantumCircuit(source_qubits, target_qubits, classical_register)\n",
        "\n",
        "    # Initialize source register in superposition\n",
        "    for i in range(n):  # Fix: Iterate over the range of qubits\n",
        "        qc.h(source_qubits[i])\n",
        "    qc.x(target_qubits[-1])  # Initialize target register to |1>\n",
        "    qc.barrier()\n",
        "\n",
        "    # Modular exponentiation: a^x mod N\n",
        "    modular_exponentiation(qc, base, N, source_qubits, target_qubits)\n",
        "\n",
        "    # Apply inverse QFT to the source register\n",
        "    iqft_circuit(qc, source_qubits, n)\n",
        "\n",
        "    print(\"Gate count:\", qc.count_ops())\n",
        "\n",
        "\n",
        "    # Measure the source register\n",
        "    for i in range(n):\n",
        "        qc.measure(source_qubits[i], classical_register[i])\n",
        "    qc.barrier()\n",
        "\n",
        "    # Execute the circuit\n",
        "    job = backend.run(qc, shots=shots)\n",
        "    job_monitor(job)\n",
        "    result = job.result()\n",
        "    counts = result.get_counts()\n",
        "\n",
        "    # Interpret the results to find factors\n",
        "    return interpret_quantum_counts(counts, N, base)"
      ],
      "metadata": {
        "id": "DcnMfxLM16gs"
      },
      "execution_count": 6,
      "outputs": []
    },
    {
      "cell_type": "markdown",
      "source": [
        "### Method for interpreting quantum results from shor's algorithm"
      ],
      "metadata": {
        "id": "HIzLj-RP6svF"
      }
    },
    {
      "cell_type": "markdown",
      "source": [
        "## Interpreting Quantum Measurement Results for Factorization\n",
        "\n",
        "This function **`interpret_quantum_counts`** processes quantum measurement results to extract the **prime factors** of \\( N \\).\n",
        "\n",
        "### **Steps:**\n",
        "1. **Sort the Measurement Outcomes:**\n",
        "   - The measured bitstrings are sorted in descending order based on their frequency.\n",
        "\n",
        "2. **Extract the Period \\( r \\):**\n",
        "   - The bitstring with the highest count is converted from binary to an integer.\n",
        "   - If the measured value is `0`, it is skipped.\n",
        "\n",
        "3. **Verify Periodicity Condition:**\n",
        "   - If \\( r \\) is even and satisfies \\( a^{r/2} \\not\\equiv -1 \\mod N \\), then:\n",
        "     - Compute \\( x = a^{r/2} \\mod N \\).\n",
        "     - Compute the factors as \\( \\gcd(x+1, N) \\) and \\( \\gcd(x-1, N) \\).\n",
        "\n",
        "4. **Return the Factors:**\n",
        "   - If valid factors are found, they are returned as a tuple.\n",
        "   - Otherwise, `(None, None)` is returned, indicating failure.\n",
        "\n",
        "### **Purpose:**\n",
        "- This function extracts periodicity from quantum results and applies post-processing to determine the prime factors.\n"
      ],
      "metadata": {
        "id": "6Qet_qdl8fJs"
      }
    },
    {
      "cell_type": "code",
      "source": [
        "def interpret_quantum_counts(counts, N, base):\n",
        "    \"\"\"Interpret quantum measurement counts to determine the prime factors of N.\"\"\"\n",
        "    sorted_counts = sorted(counts.items(), key=lambda x: x[1], reverse=True)\n",
        "\n",
        "    for bitstring, _ in sorted_counts:\n",
        "        measured_value = int(bitstring, 2)\n",
        "        if measured_value == 0:\n",
        "            continue  # Skip case\n",
        "\n",
        "        r = measured_value\n",
        "        if r is None:\n",
        "            continue\n",
        "\n",
        "        # Check if r is even and a^(r/2) != -1 mod N\n",
        "        if r % 2 == 0:\n",
        "            x = pow(base, r // 2, N)\n",
        "            if x != N - 1:\n",
        "                factor1 = gcd(x + 1, N)\n",
        "                factor2 = gcd(x - 1, N)\n",
        "                if factor1 != 1 and factor2 != 1:\n",
        "                    return (factor1, factor2)\n",
        "\n",
        "    return (None, None)  # If no valid factors were found"
      ],
      "metadata": {
        "id": "WH-f5QUK19QM"
      },
      "execution_count": 7,
      "outputs": []
    },
    {
      "cell_type": "markdown",
      "source": [
        "### Load in the semiprime numbers"
      ],
      "metadata": {
        "id": "d5XysiuU605-"
      }
    },
    {
      "cell_type": "code",
      "source": [
        "N = {\n",
        "    8: 143,\n",
        "    10: 899,\n",
        "    12: 3127,\n",
        "    14: 11009,\n",
        "    16: 47053,\n",
        "    18: 167659,\n",
        "    20: 744647,\n",
        "    22: 3036893,\n",
        "    24: 11426971,\n",
        "    26: 58949987,\n",
        "    28: 208241207,\n",
        "    30: 857830637,\n",
        "    32: 2776108693,\n",
        "    34: 11455067797,\n",
        "    36: 52734393667,\n",
        "    38: 171913873883,\n",
        "    40: 862463409547,\n",
        "    42: 2830354423669,\n",
        "    44: 12942106192073,\n",
        "    46: 53454475917779,\n",
        "    48: 255975740711783,\n",
        "    50: 696252032788709,\n",
        "    52: 3622511636491483,\n",
        "    54: 15631190744806271,\n",
        "    56: 51326462028714137,\n",
        "    58: 217320198167105543,\n",
        "    60: 827414216976034907,\n",
        "    62: 3594396771839811733,\n",
        "    64: 13489534701147995111,\n",
        "    66: 48998116978431560767,\n",
        "    68: 220295379750460962499,\n",
        "    70: 757619317101213697553,\n",
        "    72: 4239706985407101925109,\n",
        "    74: 13081178794322790282667,\n",
        "    76: 48581232636534199345531,\n",
        "    78: 263180236071092621088443,\n",
        "    80: 839063370715343025081359,\n",
        "    82: 3145102596907521247788809,\n",
        "    84: 13410747867593584234359179,\n",
        "    86: 74963308816794035875414187,\n",
        "    88: 196328049947816898123437813,\n",
        "    90: 900212494943030042797046797,\n",
        "    92: 3408479268382267351010110507,\n",
        "    94: 13410207519922000104514406009,\n",
        "    96: 56540697284955642837798912007,\n",
        "    98: 212736089539904961817389577063,\n",
        "    100: 793334180624272295351382130129,\n",
        "    102: 3680428259937415378335285504779,\n",
        "    104: 16332602937710799037362680335351,\n",
        "    106: 57831217106245162293092061499909,\n",
        "    108: 248282609001868585591158742505413,\n",
        "    110: 1052209925061489272435010659874991,\n",
        "    112: 3787041098266201578641927407194191,\n",
        "    114: 13439273072951974276382903784255637,\n",
        "    116: 53125759235002964322304682027959157,\n",
        "    118: 291658670780267526191653438575411491,\n",
        "    120: 1153151809972770124185028131269906357,\n",
        "    122: 4932188172696454339739318297923925849,\n",
        "    124: 17356117513473888567381746939296160477,\n",
        "    126: 70736588847140822442757134113822365169,\n",
        "    128: 212537944946563703298274772990879967689,\n",
        "    130: 1084744344991496578890012624928207712213,\n",
        "    132: 4047187468515523114449296638529157815821,\n",
        "    134: 17544816517388983161547445055372483694669,\n",
        "    136: 68909661794716346033524625875715931123259,\n",
        "    138: 260300599328718051119938934425302978167179,\n",
        "    140: 999828801740135651717021198616667990536367,\n",
        "    142: 3355483482297520282820961102046248621459173,\n",
        "    144: 16631837140942852587293950352766905297528897,\n",
        "    146: 85937541327755603528549497212629785145477713,\n",
        "    148: 244379668284326186252863240169712092438850161,\n",
        "    150: 1063901349880514705720387916171354938099705083,\n",
        "    152: 4094301101616740933345553372923577469734725267,\n",
        "    154: 18540363865879151504375215350972044662106182549,\n",
        "    156: 74276654746024856066871733818210517618023005407,\n",
        "    158: 275275419272426358674813929221957447870184635413,\n",
        "    160: 1014737718417810170242113026859620408620227447581,\n",
        "    162: 4478072308913255100498385793781543335816717273939,\n",
        "    164: 16727777314454032963341593941190650285738385202361,\n",
        "    166: 69590306463255114448417962649373740941080626000523,\n",
        "    168: 315687739381804055710020885538727496795372933617227,\n",
        "    170: 1267155784800316161358824961914132766229147990344997,\n",
        "    172: 4010354160858905534730018630654476125957281838169269,\n",
        "    174: 14153584803038660862653346883739092747954923774660251,\n",
        "    176: 77432705949923513909636069140456666815340352624073251,\n",
        "    178: 339852994275131877601341971143799720360724856306184203,\n",
        "    180: 1179359789143995137143701718442354039063066637950737429,\n",
        "    182: 4919304328219861879269200803487336608500936862015264459,\n",
        "    184: 17505199067294797183746989001423060541688565870542696723,\n",
        "    186: 69942997811183689049499239546127943802272331478524805397,\n",
        "    188: 261274809295595261399973998023978896104786545957568559137,\n",
        "    190: 1406369495880278908988444017973006804779746131711977427971,\n",
        "    192: 5096174527932196609747662866401954341497716363174035275761,\n",
        "    194: 17829232438088717947765479975403534458051445077992682449561,\n",
        "    196: 65066066269192108839947861329734188452463615549935803519143,\n",
        "    198: 349950642518780039677569542727000637357372102125566743672291,\n",
        "    200: 1292650905825941096257239453478790385594125558306176183893071,\n",
        "    202: 5212568709703227409964986200323079271990196603993590694680391,\n",
        "    204: 24456849430211698827484825800200226142835068670603824696509853,\n",
        "    206: 86484458957105177897678864034678638961222781895382346786419167,\n",
        "    208: 282008119289803047168077576239866793179892385097797258038424567,\n",
        "    210: 1204782513175327651249234385485579508935520775091508304137907593,\n",
        "    212: 4557491279500788785092872521598135415310018444227180886738032603,\n",
        "    214: 20157487867138959990956400818670113252626858623502858096773250117,\n",
        "    216: 76043131885256815931216222672122360339414261530624664568946162829,\n",
        "    218: 344050409069283777519808151926058652189426586409858940845468981861,\n",
        "    220: 1261954136810361898882562305061560803960332696773429051013499670427,\n",
        "    222: 4967098631546029459529052889119752620821846506121675016252303705879,\n",
        "    224: 16820438383635236108780123377884102235161339126337922957523995233529,\n",
        "    226: 89004872228161109668642757451109313028486456927748001177934114653617,\n",
        "    228: 417997545002926789713327767706388156900167929618181881789066408078713,\n",
        "    230: 1448119400401161666430996998583433602188054714520957809331008374203811,\n",
        "    232: 6085700232501070308789059668383263517284617763227080242662586334468949,\n",
        "    234: 18761475251108592243772325275525370672745869289561231704528591592371501,\n",
        "    236: 75378971952862314631435911840791163346363206779933878820532663796306607,\n",
        "    238: 334251059867417571197273497079020101091157708427514612078154549573744053,\n",
        "    240: 1293224958516444312449612523948303217126432531171026209139782551333088281,\n",
        "    242: 5936906321010438090569400987846435049778779894646896974880143196051640311,\n",
        "    244: 20576188160125558108332221675210966458468072966170808188722656711461127553,\n",
        "    246: 80363125512735611009514922977138951394216679592881179768811803231929707129,\n",
        "    248: 371791977264476193233793691135938456442939709119625615853629510058608968387,\n",
        "    250: 1042050145513045807703000231691018818256527018925081399314153802338188332967,\n",
        "    252: 5279774839958419063483802629238621577728731461590896999443064285556245912531,\n",
        "    254: 20335945572378210037443669733175394361807801065230296579184489046120469661507,\n",
        "    256: 104343749483876530238735961449384774965065842501756473864398652143393515842787,\n",
        "}"
      ],
      "metadata": {
        "id": "MWDEHwIS2_Gx"
      },
      "execution_count": 8,
      "outputs": []
    },
    {
      "cell_type": "markdown",
      "source": [
        "## Benchmarking Shor’s Algorithm on Different Numbers\n",
        "\n",
        "This cell runs **Shor’s algorithm** on a set of test numbers and records the execution time and qubit usage.\n",
        "\n",
        "### **Steps:**\n",
        "1. **Initialize Storage:**\n",
        "   - `timing_results`: Stores execution times for each test case.\n",
        "   - `qubit_counts`: Stores the number of qubits used.\n",
        "\n",
        "2. **Iterate Over Test Numbers:**\n",
        "   - The test numbers are extracted from the `N` dictionary.\n",
        "   - For each number:\n",
        "     - **Compute the Required Qubits:**  \n",
        "       The number of qubits needed is calculated as `2 * n + 3`, where `n = ceil(log2(N))`.\n",
        "     - **Measure Execution Time:**  \n",
        "       The algorithm’s runtime is measured using `time.time()` before and after execution.\n",
        "     - **Attempt Factorization (Up to 10 Times):**  \n",
        "       - Runs `shors_algorithm(number)`, retrying if the factors are `(None, None)`.\n",
        "       - If valid factors are found, the loop terminates early.\n",
        "\n",
        "3. **Print and Store Results:**\n",
        "   - Displays the number being tested, its factors, execution time, and qubits used.\n",
        "   - Appends execution time and qubit count to the respective lists.\n",
        "\n",
        "### **Purpose:**\n",
        "- This benchmarking process helps evaluate the **performance** of Shor’s algorithm on different numbers, analyzing:\n",
        "  - **Time Complexity**\n",
        "  - **Qubit Resource Requirements**\n",
        "  - **Success Rate Across Multiple Attempts**\n"
      ],
      "metadata": {
        "id": "a12a8wAi630T"
      }
    },
    {
      "cell_type": "code",
      "execution_count": 9,
      "metadata": {
        "id": "dKyBt9vLyG0h",
        "colab": {
          "base_uri": "https://localhost:8080/",
          "height": 1000
        },
        "outputId": "b01d1fcd-f80b-4ffb-c242-03906e00e0c4"
      },
      "outputs": [
        {
          "output_type": "stream",
          "name": "stdout",
          "text": [
            "\n",
            "Testing number: 143\n",
            "Attempt 1\n",
            "138\n",
            "Gate count: {'barrier': 51, 'cu1': 28, 'cx': 8, 'h': 16, 'x': 1}\n",
            "Job Queued\n",
            "Job Running\n",
            "Job Done.\n",
            "Ending Job Monitor\n",
            "Number: 143\n",
            "Factors: (13, 11)\n",
            "Time taken: 2.02 seconds\n",
            "Qubits used: 19\n",
            "\n",
            "Testing number: 899\n",
            "Attempt 1\n",
            "346\n",
            "Gate count: {'barrier': 63, 'cu1': 45, 'cx': 10, 'h': 20, 'x': 1}\n",
            "Job Queued\n",
            "Job Running\n",
            "Job Running\n",
            "Job Running\n",
            "Job Running\n",
            "Job Running\n",
            "Job Running\n",
            "Job Running\n",
            "Job Done.\n",
            "Ending Job Monitor\n",
            "Number: 899\n",
            "Factors: (29, 31)\n",
            "Time taken: 8.01 seconds\n",
            "Qubits used: 23\n",
            "\n",
            "Testing number: 3127\n",
            "Attempt 1\n",
            "2790\n",
            "Gate count: {'barrier': 75, 'cu1': 66, 'cx': 12, 'h': 24, 'x': 1}\n",
            "Job Queued\n",
            "Job Running\n",
            "Job Running\n",
            "Job Running\n",
            "Job Running\n",
            "Job Running\n",
            "Job Running\n",
            "Job Running\n",
            "Job Running\n",
            "Job Running\n",
            "Job Running\n",
            "Job Running\n",
            "Job Running\n",
            "Job Running\n",
            "Job Running\n",
            "Job Running\n",
            "Job Done.\n",
            "Ending Job Monitor\n",
            "Attempt 1\n",
            "1846\n",
            "Gate count: {'barrier': 75, 'cu1': 66, 'cx': 12, 'h': 24, 'x': 1}\n",
            "Job Queued\n"
          ]
        },
        {
          "output_type": "error",
          "ename": "KeyboardInterrupt",
          "evalue": "",
          "traceback": [
            "\u001b[0;31m---------------------------------------------------------------------------\u001b[0m",
            "\u001b[0;31mKeyboardInterrupt\u001b[0m                         Traceback (most recent call last)",
            "\u001b[0;32m<ipython-input-9-269c24e53eed>\u001b[0m in \u001b[0;36m<cell line: 0>\u001b[0;34m()\u001b[0m\n\u001b[1;32m     20\u001b[0m     \u001b[0;32mwhile\u001b[0m \u001b[0mfactors\u001b[0m\u001b[0;34m[\u001b[0m\u001b[0;36m0\u001b[0m\u001b[0;34m]\u001b[0m \u001b[0;32mis\u001b[0m \u001b[0;32mNone\u001b[0m \u001b[0;32mand\u001b[0m \u001b[0mfactors\u001b[0m\u001b[0;34m[\u001b[0m\u001b[0;36m1\u001b[0m\u001b[0;34m]\u001b[0m \u001b[0;32mis\u001b[0m \u001b[0;32mNone\u001b[0m\u001b[0;34m:\u001b[0m\u001b[0;34m\u001b[0m\u001b[0;34m\u001b[0m\u001b[0m\n\u001b[1;32m     21\u001b[0m         \u001b[0mprint\u001b[0m\u001b[0;34m(\u001b[0m\u001b[0;34mf\"Attempt {attempt + 1}\"\u001b[0m\u001b[0;34m)\u001b[0m\u001b[0;34m\u001b[0m\u001b[0;34m\u001b[0m\u001b[0m\n\u001b[0;32m---> 22\u001b[0;31m         \u001b[0mfactors\u001b[0m \u001b[0;34m=\u001b[0m \u001b[0mshors_algorithm\u001b[0m\u001b[0;34m(\u001b[0m\u001b[0mnumber\u001b[0m\u001b[0;34m)\u001b[0m\u001b[0;34m\u001b[0m\u001b[0;34m\u001b[0m\u001b[0m\n\u001b[0m\u001b[1;32m     23\u001b[0m         \u001b[0;32mif\u001b[0m \u001b[0mfactors\u001b[0m\u001b[0;34m[\u001b[0m\u001b[0;36m0\u001b[0m\u001b[0;34m]\u001b[0m \u001b[0;32mis\u001b[0m \u001b[0;32mnot\u001b[0m \u001b[0;32mNone\u001b[0m\u001b[0;34m:\u001b[0m\u001b[0;34m\u001b[0m\u001b[0;34m\u001b[0m\u001b[0m\n\u001b[1;32m     24\u001b[0m             \u001b[0;32mbreak\u001b[0m\u001b[0;34m\u001b[0m\u001b[0;34m\u001b[0m\u001b[0m\n",
            "\u001b[0;32m<ipython-input-6-50cefa7a6f81>\u001b[0m in \u001b[0;36mshors_algorithm\u001b[0;34m(N, base)\u001b[0m\n\u001b[1;32m     37\u001b[0m     \u001b[0;31m# Execute the circuit\u001b[0m\u001b[0;34m\u001b[0m\u001b[0;34m\u001b[0m\u001b[0m\n\u001b[1;32m     38\u001b[0m     \u001b[0mjob\u001b[0m \u001b[0;34m=\u001b[0m \u001b[0mbackend\u001b[0m\u001b[0;34m.\u001b[0m\u001b[0mrun\u001b[0m\u001b[0;34m(\u001b[0m\u001b[0mqc\u001b[0m\u001b[0;34m,\u001b[0m \u001b[0mshots\u001b[0m\u001b[0;34m=\u001b[0m\u001b[0mshots\u001b[0m\u001b[0;34m)\u001b[0m\u001b[0;34m\u001b[0m\u001b[0;34m\u001b[0m\u001b[0m\n\u001b[0;32m---> 39\u001b[0;31m     \u001b[0mjob_monitor\u001b[0m\u001b[0;34m(\u001b[0m\u001b[0mjob\u001b[0m\u001b[0;34m)\u001b[0m\u001b[0;34m\u001b[0m\u001b[0;34m\u001b[0m\u001b[0m\n\u001b[0m\u001b[1;32m     40\u001b[0m     \u001b[0mresult\u001b[0m \u001b[0;34m=\u001b[0m \u001b[0mjob\u001b[0m\u001b[0;34m.\u001b[0m\u001b[0mresult\u001b[0m\u001b[0;34m(\u001b[0m\u001b[0;34m)\u001b[0m\u001b[0;34m\u001b[0m\u001b[0;34m\u001b[0m\u001b[0m\n\u001b[1;32m     41\u001b[0m     \u001b[0mcounts\u001b[0m \u001b[0;34m=\u001b[0m \u001b[0mresult\u001b[0m\u001b[0;34m.\u001b[0m\u001b[0mget_counts\u001b[0m\u001b[0;34m(\u001b[0m\u001b[0;34m)\u001b[0m\u001b[0;34m\u001b[0m\u001b[0;34m\u001b[0m\u001b[0m\n",
            "\u001b[0;32m/usr/local/lib/python3.11/dist-packages/ipykernel/iostream.py\u001b[0m in \u001b[0;36mwrite\u001b[0;34m(self, string)\u001b[0m\n\u001b[1;32m    382\u001b[0m                 parent=self.parent_header, ident=self.topic)\n\u001b[1;32m    383\u001b[0m \u001b[0;34m\u001b[0m\u001b[0m\n\u001b[0;32m--> 384\u001b[0;31m     \u001b[0;32mdef\u001b[0m \u001b[0mwrite\u001b[0m\u001b[0;34m(\u001b[0m\u001b[0mself\u001b[0m\u001b[0;34m,\u001b[0m \u001b[0mstring\u001b[0m\u001b[0;34m)\u001b[0m\u001b[0;34m:\u001b[0m\u001b[0;34m\u001b[0m\u001b[0;34m\u001b[0m\u001b[0m\n\u001b[0m\u001b[1;32m    385\u001b[0m         \u001b[0;32mif\u001b[0m \u001b[0mself\u001b[0m\u001b[0;34m.\u001b[0m\u001b[0mecho\u001b[0m \u001b[0;32mis\u001b[0m \u001b[0;32mnot\u001b[0m \u001b[0;32mNone\u001b[0m\u001b[0;34m:\u001b[0m\u001b[0;34m\u001b[0m\u001b[0;34m\u001b[0m\u001b[0m\n\u001b[1;32m    386\u001b[0m             \u001b[0;32mtry\u001b[0m\u001b[0;34m:\u001b[0m\u001b[0;34m\u001b[0m\u001b[0;34m\u001b[0m\u001b[0m\n",
            "\u001b[0;31mKeyboardInterrupt\u001b[0m: "
          ]
        }
      ],
      "source": [
        "# Initialize timing results storage\n",
        "timing_results = []\n",
        "qubit_counts = []\n",
        "\n",
        "test_numbers = list(N.values())\n",
        "\n",
        "for number in test_numbers:\n",
        "    print(f\"\\nTesting number: {number}\")\n",
        "\n",
        "    # Calculate number of qubits used\n",
        "    n = math.ceil(math.log2(number))\n",
        "    num_qubits = 2 * n + 3\n",
        "    qubit_counts.append(num_qubits)\n",
        "\n",
        "    # Time the execution\n",
        "    start_time = time.time()\n",
        "\n",
        "    factors = (None,None)\n",
        "    attempt = 0\n",
        "    while factors[0] is None and factors[1] is None:\n",
        "        print(f\"Attempt {attempt + 1}\")\n",
        "        factors = shors_algorithm(number)\n",
        "        if factors[0] is not None:\n",
        "            break\n",
        "\n",
        "    end_time = time.time()\n",
        "    execution_time = end_time - start_time\n",
        "    timing_results.append(execution_time)\n",
        "\n",
        "    print(f\"Number: {number}\")\n",
        "    print(f\"Factors: {factors}\")\n",
        "    print(f\"Time taken: {execution_time:.2f} seconds\")\n",
        "    print(f\"Qubits used: {num_qubits}\")"
      ]
    },
    {
      "cell_type": "code",
      "source": [],
      "metadata": {
        "id": "hSgYgo0ayPxp"
      },
      "execution_count": null,
      "outputs": []
    }
  ]
}